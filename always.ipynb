{
 "cells": [
  {
   "cell_type": "code",
   "execution_count": 10,
   "metadata": {},
   "outputs": [],
   "source": [
    "# contract always success\n",
    "!echo -e \"int main() {\\n\\\n",
    "    return 0;\\n\\\n",
    "}\" > contracts/always_success.c"
   ]
  },
  {
   "cell_type": "code",
   "execution_count": 11,
   "metadata": {},
   "outputs": [],
   "source": [
    "!riscv64-unknown-elf-gcc -O3 -mcmodel=medlow -Wall -Werror -Wno-nonnull-compare -Wno-unused-function -Wl,-static -fdata-sections -ffunction-sections -Wl,--gc-sections -Wl,-s -o build/always_success contracts/always_success.c"
   ]
  },
  {
   "cell_type": "code",
   "execution_count": 10,
   "metadata": {},
   "outputs": [
    {
     "data": {
      "text/plain": [
       "12455"
      ]
     },
     "execution_count": 10,
     "metadata": {},
     "output_type": "execute_result"
    }
   ],
   "source": [
    "# connect rpc wrapper\n",
    "from tinyrpc.protocols.jsonrpc import JSONRPCProtocol\n",
    "from tinyrpc.transports.http import HttpPostClientTransport\n",
    "from tinyrpc import RPCClient\n",
    "\n",
    "rpc_client = RPCClient(\n",
    "    JSONRPCProtocol(),\n",
    "    HttpPostClientTransport('http://127.0.0.1:8999/'))\n",
    "\n",
    "remote_server = rpc_client.get_proxy()\n",
    "\n",
    "remote_server.blockNumber()"
   ]
  },
  {
   "cell_type": "code",
   "execution_count": 13,
   "metadata": {},
   "outputs": [
    {
     "data": {
      "text/plain": [
       "{'privkey': '0xbb918557dad030f8c16d2cebb3da66d380e11ede53214d6e8097d4967bed9d3c',\n",
       " 'pubkey': '0x025575c6dc037c40b2f7e5cccdb2f071135fe60dfbe1c85bf5a6052734bab7eaaa',\n",
       " 'blake160': '0x32d0281300319169a9c6f01f1bd6ee566089bdfe',\n",
       " 'address': 'ckt1qyqr95pgzvqrrytf48r0q8cm6mh9vcyfhhlq4hj46t'}"
      ]
     },
     "execution_count": 13,
     "metadata": {},
     "output_type": "execute_result"
    }
   ],
   "source": [
    "# index 0 user for delpoy contract\n",
    "remote_server.getHDUserInfo(0)"
   ]
  },
  {
   "cell_type": "code",
   "execution_count": 14,
   "metadata": {},
   "outputs": [
    {
     "name": "stdout",
     "output_type": "stream",
     "text": [
      "/home/rink/work/github/ckb-notebook\n"
     ]
    }
   ],
   "source": [
    "!pwd"
   ]
  },
  {
   "cell_type": "code",
   "execution_count": 2,
   "metadata": {},
   "outputs": [
    {
     "data": {
      "text/plain": [
       "{'name': 'always_success',\n",
       " 'elf_path': '/home/rink/work/github/ckb-notebook/build/always_success',\n",
       " 'code_hash': '0x0274eb897aef04482f737d3fbee9c5983e510622c6cecd78f545e433ae6e70f0',\n",
       " 'hash_type': 'data',\n",
       " 'tx_hash': '0x04b4f2a16333adabe35ab3fdcf7fc1f2b57c1177983cd3fae468763ff6217e30',\n",
       " 'index': '0x0',\n",
       " 'dep_type': 'code'}"
      ]
     },
     "execution_count": 2,
     "metadata": {},
     "output_type": "execute_result"
    }
   ],
   "source": [
    "# send some capacity to account index 0 \n",
    "remote_server.deployContract(\"0xbb918557dad030f8c16d2cebb3da66d380e11ede53214d6e8097d4967bed9d3c\" ,\"/home/rink/work/github/ckb-notebook/build/always_success\")"
   ]
  },
  {
   "cell_type": "code",
   "execution_count": 3,
   "metadata": {},
   "outputs": [
    {
     "data": {
      "text/plain": [
       "{'privkey': '0x2f3ef8c71d1eea37ccb923d3391ceff6fbf9bc53a797bfd66cf4430e031ba27f',\n",
       " 'pubkey': '0x025d75e3426b74fc6c832dcb3469ae9374be6173f1940cfb14597b5a6c52c16931',\n",
       " 'blake160': '0xfd03fd824f9b777f3671ab776bd694cc76e3c09d',\n",
       " 'address': 'ckt1qyq06qlasf8ekamlxec6kamt662vcahrczwsfucj4q'}"
      ]
     },
     "execution_count": 3,
     "metadata": {},
     "output_type": "execute_result"
    }
   ],
   "source": [
    "# index 1 user for test\n",
    "# send some capacity to account index 1\n",
    "remote_server.getHDUserInfo(1)"
   ]
  },
  {
   "cell_type": "code",
   "execution_count": 6,
   "metadata": {},
   "outputs": [
    {
     "name": "stdout",
     "output_type": "stream",
     "text": [
      "[<LiveCells(id = '489', tx_hash='0x93b1d56938c20e26689bab69f46f45b522018c0f27a3d0fab9382060b98a5fe9', cell_index='0', capacity='203264251627', lock_code_hash='0x9bd7e06f3ecf4be0f2fcd2188b23f1b9fcc88e5d4b65a8637b17723bbda3cce8', lock_args='0x4a88cef22e4e71c48c40da51c1d6bd16daa97aa7', lock_hash_type='type', type_code_hash='', type_args='', type_hash_type='', height='500')>]\n"
     ]
    }
   ],
   "source": [
    "from sqlalchemy import create_engine\n",
    "from sqlalchemy.orm import sessionmaker\n",
    "from sqlalchemy.ext.declarative import declarative_base\n",
    "from pyDatalog import pyDatalog\n",
    "from sqlalchemy import Column, Integer, String, Text\n",
    "\n",
    "engine = create_engine('sqlite:////home/rink/work/github/ckb-rpc-wrapper/sync.db?check_same_thread=False', echo=False)\n",
    "# define a base class with SQLAlchemy and pyDatalog capabilities\n",
    "Base = declarative_base(cls=pyDatalog.Mixin, metaclass=pyDatalog.sqlMetaMixin)\n",
    "# open a session on a database, then associate it to the Base class\n",
    "Session = sessionmaker(bind=engine)\n",
    "session = Session()\n",
    "Base.session = session\n",
    "Base.metadata.bind = engine\n",
    "\n",
    "class Info(Base):\n",
    "    __tablename__ = 'info'\n",
    "    __table_args__ = {'autoload':True} # autoload the model\n",
    "    \n",
    "    def __repr__(self):\n",
    "        return \"<Info(tip_height='%s')>\" % (\n",
    "                   self.tip_height)\n",
    "\n",
    "class LiveCells(Base):\n",
    "    __tablename__ = 'livecells'\n",
    "    __table_args__ = {'autoload':True} # autoload the model\n",
    "    \n",
    "    def __repr__(self):\n",
    "        return \"<LiveCells(id = '%s', tx_hash='%s', cell_index='%s', capacity='%s', lock_code_hash='%s', lock_args='%s', lock_hash_type='%s', type_code_hash='%s', type_args='%s', type_hash_type='%s', height='%s')>\" % (\n",
    "                   self.id, self.tx_hash, self.cell_index, self.capacity, self.lock_code_hash, self.lock_args, self.lock_hash_type, self.type_code_hash, self.type_args, self.type_hash_type, self.height)\n",
    "\n",
    "X = pyDatalog.Variable()\n",
    "LiveCells.height[X] == 500\n",
    "print(X)\n",
    "\n",
    "pyDatalog.create_terms('link, can_reach')\n",
    "Y = pyDatalog.Variable()\n",
    "not_enough(X) <= LiveCells.capacity[Y] > 203850000000\n",
    "query_live_cells(AMOUNT,[C]) <= link(X,Z) & can_reach(Z,Y) & (X!=Y)\n",
    "\n",
    "print (query_live_cells(400000000000,Y))"
   ]
  },
  {
   "cell_type": "code",
   "execution_count": 15,
   "metadata": {},
   "outputs": [
    {
     "name": "stdout",
     "output_type": "stream",
     "text": [
      "{'version': '0x0', 'cell_deps': [{'outpoint': {'tx_hash': '0x62b47d45ee689fb852af9002c318dcea1aeb9a4632991429fc3ec38676e356e3', 'index': '0x0'}, 'dep_type': 'dep_group'}], 'header_deps': [], 'inputs': [{'previous_output': {'tx_hash': '0xb364c95ba1170b640d72c514f05389c6b37580568e82afb81b28e06935b6309e', 'index': '0x0'}, 'since': '0x0'}], 'outputs': [{'capacity': '0x2cb417800', 'lock': {'code_hash': '0x9bd7e06f3ecf4be0f2fcd2188b23f1b9fcc88e5d4b65a8637b17723bbda3cce8', 'args': '0xe73ac97da522fbe645811dc5dbfab830d3ca550f', 'hash_type': 'type'}}], 'outputs_data': ['0x'], 'witnesses': ['0xc50477e52d648990415dcb6a0adb9c21df1413e3d738d9001d22b5882398406a01e35a615a26e9713fddfd8840590f756880fdabc4a88ca0c2086a6f074fd9ee00']}\n",
      "{\"version\": \"0x0\", \"cell_deps\": [{\"outpoint\": {\"tx_hash\": \"0x62b47d45ee689fb852af9002c318dcea1aeb9a4632991429fc3ec38676e356e3\", \"index\": \"0x0\"}, \"dep_type\": \"dep_group\"}], \"header_deps\": [], \"inputs\": [{\"previous_output\": {\"tx_hash\": \"0xb364c95ba1170b640d72c514f05389c6b37580568e82afb81b28e06935b6309e\", \"index\": \"0x0\"}, \"since\": \"0x0\"}], \"outputs\": [{\"capacity\": \"0x2cb417800\", \"lock\": {\"code_hash\": \"0x9bd7e06f3ecf4be0f2fcd2188b23f1b9fcc88e5d4b65a8637b17723bbda3cce8\", \"args\": \"0xe73ac97da522fbe645811dc5dbfab830d3ca550f\", \"hash_type\": \"type\"}}], \"outputs_data\": [\"0x\"], \"witnesses\": [\"0xc50477e52d648990415dcb6a0adb9c21df1413e3d738d9001d22b5882398406a01e35a615a26e9713fddfd8840590f756880fdabc4a88ca0c2086a6f074fd9ee00\"]}\n"
     ]
    }
   ],
   "source": [
    "def example_tx():\n",
    "    tx = {\"version\":\"0x0\",\n",
    "          \"cell_deps\":[\n",
    "              {\"out_point\":\n",
    "                   {\"tx_hash\":\"0xe02c8a20a64a336cac1e477b9847888251a30a9bfe2d9050ca7ab59f507b15c7\",\n",
    "                    \"index\":\"0x0\"},\n",
    "               \"dep_type\":\n",
    "                   \"dep_group\"}\n",
    "          ],\n",
    "          \"header_deps\":[],\n",
    "          \"inputs\":[\n",
    "              {\"previous_output\":\n",
    "                   {\"tx_hash\":\"0xb364c95ba1170b640d72c514f05389c6b37580568e82afb81b28e06935b6309e\",\n",
    "                    \"index\":\"0x0\"},\n",
    "               \"since\":\"0x0\"}\n",
    "          ],\n",
    "          \"outputs\":[\n",
    "              {\"capacity\":\"0x2cb417800\",\n",
    "               \"lock\":\n",
    "                   {\"code_hash\":\"0x9bd7e06f3ecf4be0f2fcd2188b23f1b9fcc88e5d4b65a8637b17723bbda3cce8\",\n",
    "                    \"args\":\"0xe73ac97da522fbe645811dc5dbfab830d3ca550f\",\n",
    "                    \"hash_type\":\"type\"}\n",
    "              }\n",
    "          ],\n",
    "          \"outputs_data\":[\"0x\"],\n",
    "          \"witnesses\":[\"0xc50477e52d648990415dcb6a0adb9c21df1413e3d738d9001d22b5882398406a01e35a615a26e9713fddfd8840590f756880fdabc4a88ca0c2086a6f074fd9ee00\"]\n",
    "         }\n",
    "    secp_info = remote_server.systemScript()\n",
    "    cell_dep = {\"outpoint\": {\"tx_hash\": secp_info[\"tx_hash\"], \"index\": secp_info[\"index\"]}, \"dep_type\": secp_info[\"dep_type\"]}\n",
    "    tx[\"cell_deps\"] = [cell_dep]\n",
    "    return tx\n",
    "    \n",
    "tx = example_tx()\n",
    "print(tx)\n",
    "\n",
    "import json\n",
    "tx_json = json.dumps(tx)\n",
    "print(tx_json)"
   ]
  },
  {
   "cell_type": "code",
   "execution_count": null,
   "metadata": {},
   "outputs": [],
   "source": []
  },
  {
   "cell_type": "code",
   "execution_count": null,
   "metadata": {},
   "outputs": [],
   "source": []
  }
 ],
 "metadata": {
  "kernelspec": {
   "display_name": "Python 3",
   "language": "python",
   "name": "python3"
  },
  "language_info": {
   "codemirror_mode": {
    "name": "ipython",
    "version": 3
   },
   "file_extension": ".py",
   "mimetype": "text/x-python",
   "name": "python",
   "nbconvert_exporter": "python",
   "pygments_lexer": "ipython3",
   "version": "3.7.4"
  }
 },
 "nbformat": 4,
 "nbformat_minor": 4
}
