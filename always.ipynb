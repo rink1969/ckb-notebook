{
 "cells": [
  {
   "cell_type": "code",
   "execution_count": 45,
   "metadata": {},
   "outputs": [
    {
     "name": "stdout",
     "output_type": "stream",
     "text": [
      "current dir: /home/rink/work/github/ckb-notebook\n"
     ]
    }
   ],
   "source": [
    "temp = !pwd\n",
    "current_dir = temp[0]\n",
    "print(\"current dir:\", current_dir)"
   ]
  },
  {
   "cell_type": "code",
   "execution_count": 46,
   "metadata": {},
   "outputs": [
    {
     "name": "stdout",
     "output_type": "stream",
     "text": [
      "contract src path: /home/rink/work/github/ckb-notebook/contracts/always_success.c\n"
     ]
    }
   ],
   "source": [
    "# contract always success\n",
    "contract_src_path = current_dir + \"/contracts/always_success.c\"\n",
    "print(\"contract src path: \" + contract_src_path)\n",
    "!echo -e \"int main() {\\n\\\n",
    "    return 0;\\n\\\n",
    "}\" > contracts/always_success.c"
   ]
  },
  {
   "cell_type": "code",
   "execution_count": 47,
   "metadata": {},
   "outputs": [
    {
     "name": "stdout",
     "output_type": "stream",
     "text": [
      "contract bin path: /home/rink/work/github/ckb-notebook/build/always_success\n"
     ]
    }
   ],
   "source": [
    "# build contract\n",
    "contract_bin_path = current_dir + \"/build/always_success\"\n",
    "print(\"contract bin path:\", contract_bin_path)\n",
    "!riscv64-unknown-elf-gcc -O3 -mcmodel=medlow -Wall -Werror -Wno-nonnull-compare -Wno-unused-function -Wl,-static -fdata-sections -ffunction-sections -Wl,--gc-sections -Wl,-s -o {contract_bin_path} {contract_src_path}"
   ]
  },
  {
   "cell_type": "code",
   "execution_count": 48,
   "metadata": {},
   "outputs": [
    {
     "name": "stdout",
     "output_type": "stream",
     "text": [
      "system script info: {'name': 'system', 'elf_path': 'system', 'code_hash': '0x9bd7e06f3ecf4be0f2fcd2188b23f1b9fcc88e5d4b65a8637b17723bbda3cce8', 'hash_type': 'type', 'tx_hash': '0x62b47d45ee689fb852af9002c318dcea1aeb9a4632991429fc3ec38676e356e3', 'index': '0x0', 'dep_type': 'dep_group'}\n"
     ]
    }
   ],
   "source": [
    "# connect rpc wrapper\n",
    "# usage https://github.com/rink1969/ckb-rpc-wrapper\n",
    "from tinyrpc.protocols.jsonrpc import JSONRPCProtocol\n",
    "from tinyrpc.transports.http import HttpPostClientTransport\n",
    "from tinyrpc import RPCClient\n",
    "\n",
    "rpc_client = RPCClient(\n",
    "    JSONRPCProtocol(),\n",
    "    HttpPostClientTransport('http://127.0.0.1:8999/'))\n",
    "\n",
    "remote_server = rpc_client.get_proxy()\n",
    "\n",
    "system_script = remote_server.systemScript()\n",
    "print(\"system script info:\", system_script)"
   ]
  },
  {
   "cell_type": "code",
   "execution_count": 49,
   "metadata": {},
   "outputs": [
    {
     "name": "stdout",
     "output_type": "stream",
     "text": [
      "account 0 info: {'privkey': '0xbb918557dad030f8c16d2cebb3da66d380e11ede53214d6e8097d4967bed9d3c', 'pubkey': '0x025575c6dc037c40b2f7e5cccdb2f071135fe60dfbe1c85bf5a6052734bab7eaaa', 'blake160': '0x32d0281300319169a9c6f01f1bd6ee566089bdfe', 'address': 'ckt1qyqr95pgzvqrrytf48r0q8cm6mh9vcyfhhlq4hj46t'}\n"
     ]
    }
   ],
   "source": [
    "# index 0 account for delpoy contract\n",
    "account_0 = remote_server.getHDUserInfo(0)\n",
    "print(\"account 0 info:\", account_0)"
   ]
  },
  {
   "cell_type": "code",
   "execution_count": 52,
   "metadata": {},
   "outputs": [
    {
     "name": "stdout",
     "output_type": "stream",
     "text": [
      "always sucess contract info: {'name': 'always_success', 'elf_path': '/home/rink/work/github/ckb-notebook/build/always_success', 'code_hash': '0x0274eb897aef04482f737d3fbee9c5983e510622c6cecd78f545e433ae6e70f0', 'hash_type': 'data', 'tx_hash': '0x8918ec6031e131b6398e4e656fad08ccb3756e7bea0df81c160b845f9c4feff5', 'index': '0x0', 'dep_type': 'code'}\n"
     ]
    }
   ],
   "source": [
    "# send some capacity to account 0 before \n",
    "always_sucess_info = remote_server.deployContract(account_0[\"privkey\"] ,contract_bin_path)\n",
    "print(\"always sucess contract info:\", always_sucess_info)"
   ]
  },
  {
   "cell_type": "code",
   "execution_count": 53,
   "metadata": {},
   "outputs": [
    {
     "name": "stdout",
     "output_type": "stream",
     "text": [
      "account 1 info: {'privkey': '0x2f3ef8c71d1eea37ccb923d3391ceff6fbf9bc53a797bfd66cf4430e031ba27f', 'pubkey': '0x025d75e3426b74fc6c832dcb3469ae9374be6173f1940cfb14597b5a6c52c16931', 'blake160': '0xfd03fd824f9b777f3671ab776bd694cc76e3c09d', 'address': 'ckt1qyq06qlasf8ekamlxec6kamt662vcahrczwsfucj4q'}\n"
     ]
    }
   ],
   "source": [
    "# index 1 account for test\n",
    "# send some capacity to account index 1\n",
    "account_1 = remote_server.getHDUserInfo(1)\n",
    "print(\"account 1 info:\", account_1)"
   ]
  },
  {
   "cell_type": "code",
   "execution_count": 76,
   "metadata": {},
   "outputs": [
    {
     "name": "stdout",
     "output_type": "stream",
     "text": [
      "{'version': '0x0', 'cell_deps': [{'out_point': {'tx_hash': '0x62b47d45ee689fb852af9002c318dcea1aeb9a4632991429fc3ec38676e356e3', 'index': '0x0'}, 'dep_type': 'dep_group'}], 'header_deps': [], 'inputs': [{'previous_output': {'tx_hash': '0xb364c95ba1170b640d72c514f05389c6b37580568e82afb81b28e06935b6309e', 'index': '0x0'}, 'since': '0x0'}], 'outputs': [{'capacity': '0x2cb417800', 'lock': {'code_hash': '0x9bd7e06f3ecf4be0f2fcd2188b23f1b9fcc88e5d4b65a8637b17723bbda3cce8', 'args': '0xe73ac97da522fbe645811dc5dbfab830d3ca550f', 'hash_type': 'type'}}], 'outputs_data': ['0x'], 'witnesses': ['0xc50477e52d648990415dcb6a0adb9c21df1413e3d738d9001d22b5882398406a01e35a615a26e9713fddfd8840590f756880fdabc4a88ca0c2086a6f074fd9ee00']}\n",
      "{\"version\": \"0x0\", \"cell_deps\": [{\"out_point\": {\"tx_hash\": \"0x62b47d45ee689fb852af9002c318dcea1aeb9a4632991429fc3ec38676e356e3\", \"index\": \"0x0\"}, \"dep_type\": \"dep_group\"}], \"header_deps\": [], \"inputs\": [{\"previous_output\": {\"tx_hash\": \"0xb364c95ba1170b640d72c514f05389c6b37580568e82afb81b28e06935b6309e\", \"index\": \"0x0\"}, \"since\": \"0x0\"}], \"outputs\": [{\"capacity\": \"0x2cb417800\", \"lock\": {\"code_hash\": \"0x9bd7e06f3ecf4be0f2fcd2188b23f1b9fcc88e5d4b65a8637b17723bbda3cce8\", \"args\": \"0xe73ac97da522fbe645811dc5dbfab830d3ca550f\", \"hash_type\": \"type\"}}], \"outputs_data\": [\"0x\"], \"witnesses\": [\"0xc50477e52d648990415dcb6a0adb9c21df1413e3d738d9001d22b5882398406a01e35a615a26e9713fddfd8840590f756880fdabc4a88ca0c2086a6f074fd9ee00\"]}\n"
     ]
    }
   ],
   "source": [
    "def example_tx():\n",
    "    tx = {\"version\":\"0x0\",\n",
    "          \"cell_deps\":[\n",
    "              {\"out_point\":\n",
    "                   {\"tx_hash\":\"0xe02c8a20a64a336cac1e477b9847888251a30a9bfe2d9050ca7ab59f507b15c7\",\n",
    "                    \"index\":\"0x0\"},\n",
    "               \"dep_type\":\n",
    "                   \"dep_group\"}\n",
    "          ],\n",
    "          \"header_deps\":[],\n",
    "          \"inputs\":[\n",
    "              {\"previous_output\":\n",
    "                   {\"tx_hash\":\"0xb364c95ba1170b640d72c514f05389c6b37580568e82afb81b28e06935b6309e\",\n",
    "                    \"index\":\"0x0\"},\n",
    "               \"since\":\"0x0\"}\n",
    "          ],\n",
    "          \"outputs\":[\n",
    "              {\"capacity\":\"0x2cb417800\",\n",
    "               \"lock\":\n",
    "                   {\"code_hash\":\"0x9bd7e06f3ecf4be0f2fcd2188b23f1b9fcc88e5d4b65a8637b17723bbda3cce8\",\n",
    "                    \"args\":\"0xe73ac97da522fbe645811dc5dbfab830d3ca550f\",\n",
    "                    \"hash_type\":\"type\"}\n",
    "              }\n",
    "          ],\n",
    "          \"outputs_data\":[\"0x\"],\n",
    "          \"witnesses\":[\"0xc50477e52d648990415dcb6a0adb9c21df1413e3d738d9001d22b5882398406a01e35a615a26e9713fddfd8840590f756880fdabc4a88ca0c2086a6f074fd9ee00\"]\n",
    "         }\n",
    "    cell_dep = {\"out_point\": {\"tx_hash\": system_script[\"tx_hash\"], \"index\": system_script[\"index\"]}, \"dep_type\": system_script[\"dep_type\"]}\n",
    "    tx[\"cell_deps\"] = [cell_dep]\n",
    "    return tx\n",
    "    \n",
    "tx = example_tx()\n",
    "print(tx)\n",
    "\n",
    "import json\n",
    "tx_json = json.dumps(tx)\n",
    "print(tx_json)"
   ]
  },
  {
   "cell_type": "code",
   "execution_count": 54,
   "metadata": {},
   "outputs": [
    {
     "name": "stdout",
     "output_type": "stream",
     "text": [
      "lock hash of account 1: 0x0cdd69779c1bb354913a84b5ed4a41fffdabc00821b76860b84884403d3596e3\n"
     ]
    }
   ],
   "source": [
    "# transfer some capacity to a new cell which locked by always_success\n",
    "# 1. compute lock hash of account 1\n",
    "account_1_lock_hash = remote_server.lockHash(system_script[\"code_hash\"], account_1[\"blake160\"], system_script[\"hash_type\"])\n",
    "print(\"lock hash of account 1:\", account_1_lock_hash)"
   ]
  },
  {
   "cell_type": "code",
   "execution_count": 77,
   "metadata": {},
   "outputs": [
    {
     "name": "stdout",
     "output_type": "stream",
     "text": [
      "transfer capacity: 100000000000 shannon\n",
      "fee: 2048000 shannon\n",
      "{'inputs': [{'previous_output': {'tx_hash': '0x558da25d7b99cd9d83676bf916228bc17778e8e9b817fc50ac5943636f84dffd', 'index': '0x0'}, 'since': '0x0'}], 'capacity': '1000000000000'}\n"
     ]
    }
   ],
   "source": [
    "# 2. collect live cells to supply enough capacity\n",
    "transfer_capacity = 1000 * 10 ** 8\n",
    "print(\"transfer capacity:\", transfer_capacity, \"shannon\")\n",
    "fee = 2048 * 1000\n",
    "print(\"fee:\", fee, \"shannon\")\n",
    "inputs_cells = remote_server.queryLiveCellsByCapacity(account_1_lock_hash, transfer_capacity + fee)\n",
    "print(inputs_cells)\n",
    "# set tx inputs\n",
    "tx[\"inputs\"] = inputs_cells[\"inputs\"]"
   ]
  },
  {
   "cell_type": "code",
   "execution_count": 78,
   "metadata": {},
   "outputs": [
    {
     "name": "stdout",
     "output_type": "stream",
     "text": [
      "transfer output: {'capacity': '0x174876e800', 'lock': {'code_hash': '0x0274eb897aef04482f737d3fbee9c5983e510622c6cecd78f545e433ae6e70f0', 'args': '0xfd03fd824f9b777f3671ab776bd694cc76e3c09d', 'hash_type': 'data'}}\n",
      "change capacity: 899997952000 shannon\n",
      "change output: {'capacity': '0xd18c0ee800', 'lock': {'code_hash': '0x9bd7e06f3ecf4be0f2fcd2188b23f1b9fcc88e5d4b65a8637b17723bbda3cce8', 'args': '0xfd03fd824f9b777f3671ab776bd694cc76e3c09d', 'hash_type': 'type'}}\n",
      "outputs data: ['0x', '0x']\n"
     ]
    }
   ],
   "source": [
    "# build outputs: transfer and change\n",
    "transfer_output = {\"capacity\":str(hex(transfer_capacity)),\n",
    "               \"lock\":\n",
    "                   {\"code_hash\": always_sucess_info[\"code_hash\"],\n",
    "                    \"args\": account_1[\"blake160\"],\n",
    "                    \"hash_type\":always_sucess_info[\"hash_type\"]}\n",
    "        }\n",
    "print(\"transfer output:\", transfer_output)\n",
    "change_capacity = int(inputs_cells[\"capacity\"]) - transfer_capacity - fee\n",
    "print(\"change capacity:\", change_capacity, \"shannon\")\n",
    "change_output = {\"capacity\":str(hex(change_capacity)),\n",
    "               \"lock\":\n",
    "                   {\"code_hash\": system_script[\"code_hash\"],\n",
    "                    \"args\": account_1[\"blake160\"],\n",
    "                    \"hash_type\":system_script[\"hash_type\"]}\n",
    "        }\n",
    "print(\"change output:\", change_output)\n",
    "# set tx outputs and outputs_data\n",
    "outputs = [transfer_output, change_output]\n",
    "# keep same length with outputs\n",
    "outputs_data = [\"0x\", \"0x\"]\n",
    "print(\"outputs data:\", outputs_data)\n",
    "tx[\"outputs\"] = outputs\n",
    "tx[\"outputs_data\"] = outputs_data"
   ]
  },
  {
   "cell_type": "code",
   "execution_count": 80,
   "metadata": {},
   "outputs": [
    {
     "name": "stdout",
     "output_type": "stream",
     "text": [
      "transaction string: {\"version\": \"0x0\", \"cell_deps\": [{\"out_point\": {\"tx_hash\": \"0x62b47d45ee689fb852af9002c318dcea1aeb9a4632991429fc3ec38676e356e3\", \"index\": \"0x0\"}, \"dep_type\": \"dep_group\"}], \"header_deps\": [], \"inputs\": [{\"previous_output\": {\"tx_hash\": \"0x558da25d7b99cd9d83676bf916228bc17778e8e9b817fc50ac5943636f84dffd\", \"index\": \"0x0\"}, \"since\": \"0x0\"}], \"outputs\": [{\"capacity\": \"0x174876e800\", \"lock\": {\"code_hash\": \"0x0274eb897aef04482f737d3fbee9c5983e510622c6cecd78f545e433ae6e70f0\", \"args\": \"0xfd03fd824f9b777f3671ab776bd694cc76e3c09d\", \"hash_type\": \"data\"}}, {\"capacity\": \"0xd18c0ee800\", \"lock\": {\"code_hash\": \"0x9bd7e06f3ecf4be0f2fcd2188b23f1b9fcc88e5d4b65a8637b17723bbda3cce8\", \"args\": \"0xfd03fd824f9b777f3671ab776bd694cc76e3c09d\", \"hash_type\": \"type\"}}], \"outputs_data\": [\"0x\", \"0x\"], \"witnesses\": [\"0x\"]}\n",
      "witnesses: ['0x5500000010000000550000005500000041000000ce5d66f3b9cf8da790c2aae986cfb82f2b903d20f443fced266f8bc086dbae194c20749dc1e04e2633a41e3fcf30f7df099546394774591516b6e57c9b97a77301']\n"
     ]
    }
   ],
   "source": [
    "# build transaction and sign it\n",
    "# clear example witnesses\n",
    "tx[\"witnesses\"] = [\"0x\"]\n",
    "tx_s = json.dumps(tx)\n",
    "print(\"transaction string:\", tx_s)\n",
    "# sign the tx\n",
    "tx_witnesses = remote_server.sign(account_1[\"privkey\"], tx_s)\n",
    "print(\"witnesses:\", tx_witnesses)"
   ]
  },
  {
   "cell_type": "code",
   "execution_count": 81,
   "metadata": {},
   "outputs": [
    {
     "name": "stdout",
     "output_type": "stream",
     "text": [
      "raw transaction string: {\"version\": \"0x0\", \"cell_deps\": [{\"out_point\": {\"tx_hash\": \"0x62b47d45ee689fb852af9002c318dcea1aeb9a4632991429fc3ec38676e356e3\", \"index\": \"0x0\"}, \"dep_type\": \"dep_group\"}], \"header_deps\": [], \"inputs\": [{\"previous_output\": {\"tx_hash\": \"0x558da25d7b99cd9d83676bf916228bc17778e8e9b817fc50ac5943636f84dffd\", \"index\": \"0x0\"}, \"since\": \"0x0\"}], \"outputs\": [{\"capacity\": \"0x174876e800\", \"lock\": {\"code_hash\": \"0x0274eb897aef04482f737d3fbee9c5983e510622c6cecd78f545e433ae6e70f0\", \"args\": \"0xfd03fd824f9b777f3671ab776bd694cc76e3c09d\", \"hash_type\": \"data\"}}, {\"capacity\": \"0xd18c0ee800\", \"lock\": {\"code_hash\": \"0x9bd7e06f3ecf4be0f2fcd2188b23f1b9fcc88e5d4b65a8637b17723bbda3cce8\", \"args\": \"0xfd03fd824f9b777f3671ab776bd694cc76e3c09d\", \"hash_type\": \"type\"}}], \"outputs_data\": [\"0x\", \"0x\"], \"witnesses\": [\"0x5500000010000000550000005500000041000000ce5d66f3b9cf8da790c2aae986cfb82f2b903d20f443fced266f8bc086dbae194c20749dc1e04e2633a41e3fcf30f7df099546394774591516b6e57c9b97a77301\"]}\n",
      "transafer transaction hash: 0x9bba636392badc6f4ba4fcad05ad56ffb6c2645152ec4711b9726b9aba2df454\n"
     ]
    }
   ],
   "source": [
    "# build raw transaction : transaction + witnesses\n",
    "tx[\"witnesses\"] = tx_witnesses\n",
    "rtx_s = json.dumps(tx)\n",
    "print(\"raw transaction string:\", rtx_s)\n",
    "transfer_tx_hash = remote_server.sendRawTransaction(rtx_s)\n",
    "print(\"transafer transaction hash:\", transfer_tx_hash)"
   ]
  },
  {
   "cell_type": "code",
   "execution_count": 86,
   "metadata": {},
   "outputs": [
    {
     "name": "stdout",
     "output_type": "stream",
     "text": [
      "loop raw transaction string: {\"version\": \"0x0\", \"cell_deps\": [{\"out_point\": {\"tx_hash\": \"0x8918ec6031e131b6398e4e656fad08ccb3756e7bea0df81c160b845f9c4feff5\", \"index\": \"0x0\"}, \"dep_type\": \"code\"}], \"header_deps\": [], \"inputs\": [{\"previous_output\": {\"tx_hash\": \"0x9bba636392badc6f4ba4fcad05ad56ffb6c2645152ec4711b9726b9aba2df454\", \"index\": \"0x0\"}, \"since\": \"0x0\"}], \"outputs\": [{\"capacity\": \"0x174857a800\", \"lock\": {\"code_hash\": \"0x0274eb897aef04482f737d3fbee9c5983e510622c6cecd78f545e433ae6e70f0\", \"args\": \"0xfd03fd824f9b777f3671ab776bd694cc76e3c09d\", \"hash_type\": \"data\"}}], \"outputs_data\": [\"0x\"], \"witnesses\": [\"0x\"]}\n"
     ]
    }
   ],
   "source": [
    "# loop transfer to account 1 itself\n",
    "loop_tx = example_tx()\n",
    "loop_tx_inputs = [{\"previous_output\": {\"tx_hash\": transfer_tx_hash, \"index\": \"0x0\"}, \"since\": \"0x0\"}]\n",
    "loop_capacity = transfer_capacity - fee\n",
    "loop_tx_outputs = [{\"capacity\":str(hex(loop_capacity)),\n",
    "               \"lock\":\n",
    "                   {\"code_hash\": always_sucess_info[\"code_hash\"],\n",
    "                    \"args\": account_1[\"blake160\"],\n",
    "                    \"hash_type\":always_sucess_info[\"hash_type\"]}\n",
    "        }]\n",
    "loop_tx_outputs_data = [\"0x\"]\n",
    "loop_tx_deps = [{\"out_point\": {\"tx_hash\": always_sucess_info[\"tx_hash\"], \"index\": always_sucess_info[\"index\"]}, \"dep_type\": always_sucess_info[\"dep_type\"]}]\n",
    "# always sucess lock scrip don't verify anything, so any witnesses is ok\n",
    "loop_tx_witnesses = [\"0x\"]\n",
    "# build raw transaction\n",
    "loop_tx[\"cell_deps\"] = loop_tx_deps\n",
    "loop_tx[\"inputs\"] = loop_tx_inputs\n",
    "loop_tx[\"outputs\"] = loop_tx_outputs\n",
    "loop_tx[\"outputs_data\"] = loop_tx_outputs_data\n",
    "loop_tx[\"witnesses\"] = loop_tx_witnesses\n",
    "loop_rtx_s = json.dumps(loop_tx)\n",
    "print(\"loop raw transaction string:\", loop_rtx_s)\n",
    "loop_tx_hash = remote_server.sendRawTransaction(loop_rtx_s)"
   ]
  },
  {
   "cell_type": "code",
   "execution_count": 87,
   "metadata": {},
   "outputs": [
    {
     "name": "stdout",
     "output_type": "stream",
     "text": [
      "loop tx hash: 0xf38c79830fee9023c2b431ad93dca06d1ff9181deaf5932d8fbd3a64c4fcc8bb\n"
     ]
    }
   ],
   "source": [
    "print(\"loop tx hash:\", loop_tx_hash)"
   ]
  }
 ],
 "metadata": {
  "kernelspec": {
   "display_name": "Python 3",
   "language": "python",
   "name": "python3"
  },
  "language_info": {
   "codemirror_mode": {
    "name": "ipython",
    "version": 3
   },
   "file_extension": ".py",
   "mimetype": "text/x-python",
   "name": "python",
   "nbconvert_exporter": "python",
   "pygments_lexer": "ipython3",
   "version": "3.7.4"
  }
 },
 "nbformat": 4,
 "nbformat_minor": 4
}
