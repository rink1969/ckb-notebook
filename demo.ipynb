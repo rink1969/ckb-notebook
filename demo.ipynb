{
 "cells": [
  {
   "cell_type": "code",
   "execution_count": 2,
   "metadata": {},
   "outputs": [
    {
     "name": "stdout",
     "output_type": "stream",
     "text": [
      "Server answered: 4304\n"
     ]
    }
   ],
   "source": [
    "from tinyrpc.protocols.jsonrpc import JSONRPCProtocol\n",
    "from tinyrpc.transports.http import HttpPostClientTransport\n",
    "from tinyrpc import RPCClient\n",
    "\n",
    "rpc_client = RPCClient(\n",
    "    JSONRPCProtocol(),\n",
    "    HttpPostClientTransport('http://127.0.0.1:8999/'))\n",
    "\n",
    "remote_server = rpc_client.get_proxy()\n",
    "\n",
    "# call a method\n",
    "result = remote_server.blockNumber()\n",
    "\n",
    "print(\"Server answered:\", result)"
   ]
  },
  {
   "cell_type": "code",
   "execution_count": 3,
   "metadata": {},
   "outputs": [
    {
     "data": {
      "text/plain": [
       "4304"
      ]
     },
     "execution_count": 3,
     "metadata": {},
     "output_type": "execute_result"
    }
   ],
   "source": [
    "remote_server.blockNumber()"
   ]
  },
  {
   "cell_type": "code",
   "execution_count": 12,
   "metadata": {},
   "outputs": [
    {
     "data": {
      "text/plain": [
       "{'name': 'system',\n",
       " 'elf_path': 'system',\n",
       " 'code_hash': '0x9bd7e06f3ecf4be0f2fcd2188b23f1b9fcc88e5d4b65a8637b17723bbda3cce8',\n",
       " 'hash_type': 'type',\n",
       " 'tx_hash': '0x62b47d45ee689fb852af9002c318dcea1aeb9a4632991429fc3ec38676e356e3',\n",
       " 'index': '0x0',\n",
       " 'dep_type': 'dep_group'}"
      ]
     },
     "execution_count": 12,
     "metadata": {},
     "output_type": "execute_result"
    }
   ],
   "source": [
    "remote_server.systemScript()"
   ]
  },
  {
   "cell_type": "code",
   "execution_count": 9,
   "metadata": {},
   "outputs": [
    {
     "name": "stdout",
     "output_type": "stream",
     "text": [
      "[(4293,)]\n"
     ]
    }
   ],
   "source": [
    "import sqlite3\n",
    "cx = sqlite3.connect(\"/home/rink/work/github/ckb-rpc-wrapper/sync.db\")\n",
    "cu = cx.cursor()\n",
    "cu.execute(\"select * from info\")\n",
    "print(cu.fetchall())"
   ]
  },
  {
   "cell_type": "code",
   "execution_count": 11,
   "metadata": {},
   "outputs": [
    {
     "name": "stdout",
     "output_type": "stream",
     "text": [
      "[(4281,)]\n"
     ]
    }
   ],
   "source": [
    "cu.execute(\"SELECT COUNT(*) from livecells\")\n",
    "print(cu.fetchall())"
   ]
  },
  {
   "cell_type": "code",
   "execution_count": 2,
   "metadata": {},
   "outputs": [
    {
     "name": "stdout",
     "output_type": "stream",
     "text": [
      "4.8.6\n"
     ]
    }
   ],
   "source": [
    "import z3;\n",
    "print(z3.get_version_string())"
   ]
  },
  {
   "cell_type": "code",
   "execution_count": 4,
   "metadata": {},
   "outputs": [
    {
     "name": "stdout",
     "output_type": "stream",
     "text": [
      "[y = 0, x = 7]\n"
     ]
    }
   ],
   "source": [
    "x = z3.Int('x')\n",
    "y = z3.Int('y')\n",
    "z3.solve(x > 2, y < 10, x + 2*y == 7)"
   ]
  },
  {
   "cell_type": "code",
   "execution_count": 5,
   "metadata": {},
   "outputs": [
    {
     "name": "stdout",
     "output_type": "stream",
     "text": [
      "N\n",
      "-\n",
      "6\n"
     ]
    }
   ],
   "source": [
    "from pyDatalog import pyDatalog\n",
    "pyDatalog.create_terms('factorial, N')\n",
    " \n",
    "\n",
    "factorial[N] = N*factorial[N-1] \n",
    "\n",
    "factorial[1] = 1\n",
    " \n",
    "print(factorial[3]==N)"
   ]
  },
  {
   "cell_type": "code",
   "execution_count": 13,
   "metadata": {},
   "outputs": [
    {
     "name": "stdout",
     "output_type": "stream",
     "text": [
      "Engine(sqlite:////home/rink/work/github/ckb-rpc-wrapper/sync.db?check_same_thread=False)\n"
     ]
    }
   ],
   "source": [
    "from sqlalchemy import create_engine\n",
    "engine = create_engine('sqlite:////home/rink/work/github/ckb-rpc-wrapper/sync.db?check_same_thread=False', echo=True)\n",
    "print(engine)"
   ]
  },
  {
   "cell_type": "code",
   "execution_count": 14,
   "metadata": {},
   "outputs": [
    {
     "name": "stdout",
     "output_type": "stream",
     "text": [
      "<class 'sqlalchemy.ext.declarative.api.Base'>\n"
     ]
    }
   ],
   "source": [
    "from sqlalchemy.ext.declarative import declarative_base\n",
    "Base = declarative_base()\n",
    "print(Base)"
   ]
  },
  {
   "cell_type": "code",
   "execution_count": 15,
   "metadata": {},
   "outputs": [],
   "source": [
    "from sqlalchemy import Column, Integer, String, Text\n",
    "\n",
    "# 定义映射类Info，其继承上一步创建的Base\n",
    "class Info(Base):\n",
    "    # 指定本类映射到info表\n",
    "    __tablename__ = 'info'\n",
    "    \n",
    "    tip_height = Column(Integer, primary_key=True)\n",
    "\n",
    "    def __repr__(self):\n",
    "        return \"<Info(tip_height='%s')>\" % (\n",
    "                   self.tip_height)\n",
    "\n",
    "# 定义映射类LiveCells，其继承上一步创建的Base\n",
    "class LiveCells(Base):\n",
    "    # 指定本类映射到livecells表\n",
    "    __tablename__ = 'livecells'\n",
    "    \n",
    "    id = Column(Integer, primary_key=True)\n",
    "    tx_hash = Column(String(66))\n",
    "    cell_index = Column(Integer)\n",
    "    capacity = Column(Integer)\n",
    "    lock_code_hash = Column(String(66))\n",
    "    lock_args = Column(Text)\n",
    "    lock_hash_type = Column(String(7))\n",
    "    type_code_hash = Column(String(66))\n",
    "    type_args = Column(Text)\n",
    "    type_hash_type = Column(String(7))\n",
    "    height = Column(Integer)\n",
    "\n",
    "    def __repr__(self):\n",
    "        return \"<LiveCells(id = '%s', tx_hash='%s', cell_index='%s', capacity='%s', lock_code_hash='%s', lock_args='%s', lock_hash_type='%s', type_code_hash='%s', type_args='%s', type_hash_type='%s', height='%s')>\" % (\n",
    "                   self.id, self.tx_hash, self.cell_index, self.capacity, self.lock_code_hash, self.lock_args, self.lock_hash_type, self.type_code_hash, self.type_args, self.type_hash_type, self.height)"
   ]
  },
  {
   "cell_type": "code",
   "execution_count": 16,
   "metadata": {},
   "outputs": [
    {
     "name": "stdout",
     "output_type": "stream",
     "text": [
      "<sqlalchemy.orm.session.Session object at 0x7f441d746310>\n"
     ]
    }
   ],
   "source": [
    "from sqlalchemy.orm import sessionmaker\n",
    "\n",
    "Session = sessionmaker(bind=engine)\n",
    "session = Session()\n",
    "print(session)"
   ]
  },
  {
   "cell_type": "code",
   "execution_count": 17,
   "metadata": {},
   "outputs": [
    {
     "name": "stdout",
     "output_type": "stream",
     "text": [
      "2019-11-07 15:55:45,845 INFO sqlalchemy.engine.base.Engine SELECT CAST('test plain returns' AS VARCHAR(60)) AS anon_1\n",
      "2019-11-07 15:55:45,847 INFO sqlalchemy.engine.base.Engine ()\n",
      "2019-11-07 15:55:45,851 INFO sqlalchemy.engine.base.Engine SELECT CAST('test unicode returns' AS VARCHAR(60)) AS anon_1\n",
      "2019-11-07 15:55:45,852 INFO sqlalchemy.engine.base.Engine ()\n",
      "2019-11-07 15:55:45,853 INFO sqlalchemy.engine.base.Engine BEGIN (implicit)\n",
      "2019-11-07 15:55:45,855 INFO sqlalchemy.engine.base.Engine SELECT info.tip_height AS info_tip_height \n",
      "FROM info\n",
      " LIMIT ? OFFSET ?\n",
      "2019-11-07 15:55:45,856 INFO sqlalchemy.engine.base.Engine (1, 0)\n",
      "<Info(tip_height='4293')>\n",
      "2019-11-07 15:55:45,862 INFO sqlalchemy.engine.base.Engine SELECT livecells.id AS livecells_id, livecells.tx_hash AS livecells_tx_hash, livecells.cell_index AS livecells_cell_index, livecells.capacity AS livecells_capacity, livecells.lock_code_hash AS livecells_lock_code_hash, livecells.lock_args AS livecells_lock_args, livecells.lock_hash_type AS livecells_lock_hash_type, livecells.type_code_hash AS livecells_type_code_hash, livecells.type_args AS livecells_type_args, livecells.type_hash_type AS livecells_type_hash_type, livecells.height AS livecells_height \n",
      "FROM livecells \n",
      "WHERE livecells.height = ?\n",
      "2019-11-07 15:55:45,863 INFO sqlalchemy.engine.base.Engine (500,)\n",
      "[<LiveCells(id = '489', tx_hash='0x93b1d56938c20e26689bab69f46f45b522018c0f27a3d0fab9382060b98a5fe9', cell_index='0', capacity='203264251627', lock_code_hash='0x9bd7e06f3ecf4be0f2fcd2188b23f1b9fcc88e5d4b65a8637b17723bbda3cce8', lock_args='0x4a88cef22e4e71c48c40da51c1d6bd16daa97aa7', lock_hash_type='type', type_code_hash='', type_args='', type_hash_type='', height='500')>]\n"
     ]
    }
   ],
   "source": [
    "sync_info = session.query(Info).first()\n",
    "print(sync_info)\n",
    "cell_info = session.query(LiveCells).filter_by(height=500).all()\n",
    "print(cell_info)"
   ]
  },
  {
   "cell_type": "code",
   "execution_count": 21,
   "metadata": {},
   "outputs": [
    {
     "name": "stdout",
     "output_type": "stream",
     "text": [
      "X | Y\n",
      "--|--\n",
      "2 | 4\n"
     ]
    }
   ],
   "source": [
    "from pyDatalog import pyDatalog\n",
    "def twice(a):\n",
    "    return a+a\n",
    "\n",
    "pyDatalog.create_terms('twice, X, Y')\n",
    "print((X==2) & (Y==twice(X)))"
   ]
  },
  {
   "cell_type": "code",
   "execution_count": 30,
   "metadata": {},
   "outputs": [
    {
     "name": "stdout",
     "output_type": "stream",
     "text": [
      "[<LiveCells(id = '489', tx_hash='0x93b1d56938c20e26689bab69f46f45b522018c0f27a3d0fab9382060b98a5fe9', cell_index='0', capacity='203264251627', lock_code_hash='0x9bd7e06f3ecf4be0f2fcd2188b23f1b9fcc88e5d4b65a8637b17723bbda3cce8', lock_args='0x4a88cef22e4e71c48c40da51c1d6bd16daa97aa7', lock_hash_type='type', type_code_hash='', type_args='', type_hash_type='', height='500')>]\n",
      "[<LiveCells(id = '1', tx_hash='0xa920249333f8816d51ce7fa09e949aeb290b8c54ed96de8efc629d4bb5612c47', cell_index='0', capacity='203850161678', lock_code_hash='0x9bd7e06f3ecf4be0f2fcd2188b23f1b9fcc88e5d4b65a8637b17723bbda3cce8', lock_args='0x4a88cef22e4e71c48c40da51c1d6bd16daa97aa7', lock_hash_type='type', type_code_hash='', type_args='', type_hash_type='', height='12')>]\n"
     ]
    }
   ],
   "source": [
    "from sqlalchemy import create_engine\n",
    "from sqlalchemy.orm import sessionmaker\n",
    "from sqlalchemy.ext.declarative import declarative_base\n",
    "from pyDatalog import pyDatalog\n",
    "from sqlalchemy import Column, Integer, String, Text\n",
    "\n",
    "engine = create_engine('sqlite:////home/rink/work/github/ckb-rpc-wrapper/sync.db?check_same_thread=False', echo=False)\n",
    "# define a base class with SQLAlchemy and pyDatalog capabilities\n",
    "Base = declarative_base(cls=pyDatalog.Mixin, metaclass=pyDatalog.sqlMetaMixin)\n",
    "# open a session on a database, then associate it to the Base class\n",
    "Session = sessionmaker(bind=engine)\n",
    "session = Session()\n",
    "Base.session = session\n",
    "Base.metadata.bind = engine\n",
    "\n",
    "class Info(Base):\n",
    "    __tablename__ = 'info'\n",
    "    __table_args__ = {'autoload':True} # autoload the model\n",
    "    \n",
    "    def __repr__(self):\n",
    "        return \"<Info(tip_height='%s')>\" % (\n",
    "                   self.tip_height)\n",
    "\n",
    "class LiveCells(Base):\n",
    "    __tablename__ = 'livecells'\n",
    "    __table_args__ = {'autoload':True} # autoload the model\n",
    "    \n",
    "    def __repr__(self):\n",
    "        return \"<LiveCells(id = '%s', tx_hash='%s', cell_index='%s', capacity='%s', lock_code_hash='%s', lock_args='%s', lock_hash_type='%s', type_code_hash='%s', type_args='%s', type_hash_type='%s', height='%s')>\" % (\n",
    "                   self.id, self.tx_hash, self.cell_index, self.capacity, self.lock_code_hash, self.lock_args, self.lock_hash_type, self.type_code_hash, self.type_args, self.type_hash_type, self.height)\n",
    "\n",
    "# which livecell's height is 500\n",
    "X = pyDatalog.Variable()\n",
    "LiveCells.height[X] == 500\n",
    "print(X)\n",
    "# which livecell's capacity > 203850000000\n",
    "Y = pyDatalog.Variable()\n",
    "LiveCells.capacity[Y] > 203850000000\n",
    "print(Y)"
   ]
  },
  {
   "cell_type": "code",
   "execution_count": 31,
   "metadata": {},
   "outputs": [
    {
     "name": "stdout",
     "output_type": "stream",
     "text": [
      "demo.ipynb  README.md  vote.ipynb\n"
     ]
    }
   ],
   "source": [
    "!ls"
   ]
  },
  {
   "cell_type": "code",
   "execution_count": 32,
   "metadata": {},
   "outputs": [
    {
     "name": "stdout",
     "output_type": "stream",
     "text": [
      "使用内建 specs。\n",
      "COLLECT_GCC=gcc\n",
      "COLLECT_LTO_WRAPPER=/usr/lib/gcc/x86_64-pc-linux-gnu/9.2.0/lto-wrapper\n",
      "目标：x86_64-pc-linux-gnu\n",
      "配置为：/build/gcc/src/gcc/configure --prefix=/usr --libdir=/usr/lib --libexecdir=/usr/lib --mandir=/usr/share/man --infodir=/usr/share/info --with-bugurl=https://bugs.archlinux.org/ --enable-languages=c,c++,ada,fortran,go,lto,objc,obj-c++,d --enable-shared --enable-threads=posix --with-system-zlib --with-isl --enable-__cxa_atexit --disable-libunwind-exceptions --enable-clocale=gnu --disable-libstdcxx-pch --disable-libssp --enable-gnu-unique-object --enable-linker-build-id --enable-lto --enable-plugin --enable-install-libiberty --with-linker-hash-style=gnu --enable-gnu-indirect-function --enable-multilib --disable-werror --enable-checking=release --enable-default-pie --enable-default-ssp --enable-cet=auto gdc_include_dir=/usr/include/dlang/gdc\n",
      "线程模型：posix\n",
      "gcc 版本 9.2.0 (GCC) \n"
     ]
    }
   ],
   "source": [
    "!gcc -v"
   ]
  },
  {
   "cell_type": "code",
   "execution_count": null,
   "metadata": {},
   "outputs": [],
   "source": []
  }
 ],
 "metadata": {
  "kernelspec": {
   "display_name": "Python 3",
   "language": "python",
   "name": "python3"
  },
  "language_info": {
   "codemirror_mode": {
    "name": "ipython",
    "version": 3
   },
   "file_extension": ".py",
   "mimetype": "text/x-python",
   "name": "python",
   "nbconvert_exporter": "python",
   "pygments_lexer": "ipython3",
   "version": "3.7.4"
  }
 },
 "nbformat": 4,
 "nbformat_minor": 4
}
